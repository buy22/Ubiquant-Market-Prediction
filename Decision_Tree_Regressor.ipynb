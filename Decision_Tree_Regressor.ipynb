{
 "cells": [
  {
   "cell_type": "code",
   "execution_count": 1,
   "metadata": {
    "_cell_guid": "b1076dfc-b9ad-4769-8c92-a6c4dae69d19",
    "_uuid": "8f2839f25d086af736a60e9eeb907d3b93b6e0e5",
    "execution": {
     "iopub.execute_input": "2022-03-20T22:53:45.184846Z",
     "iopub.status.busy": "2022-03-20T22:53:45.184529Z",
     "iopub.status.idle": "2022-03-20T22:53:48.286900Z",
     "shell.execute_reply": "2022-03-20T22:53:48.267594Z",
     "shell.execute_reply.started": "2022-03-20T22:53:45.184767Z"
    }
   },
   "outputs": [],
   "source": [
    "# This Python 3 environment comes with many helpful analytics libraries installed\n",
    "# It is defined by the kaggle/python Docker image: https://github.com/kaggle/docker-python\n",
    "# For example, here's several helpful packages to load\n",
    "\n",
    "import numpy as np # linear algebra\n",
    "import pandas as pd # data processing, CSV file I/O (e.g. pd.read_csv)\n",
    "\n",
    "# Input data files are available in the read-only \"../input/\" directory\n",
    "# For example, running this (by clicking run or pressing Shift+Enter) will list all files under the input directory\n",
    "\n",
    "import os\n",
    "for dirname, _, filenames in os.walk('/kaggle/input'):\n",
    "    for filename in filenames:\n",
    "        print(os.path.join(dirname, filename))\n",
    "\n",
    "# You can write up to 20GB to the current directory (/kaggle/working/) that gets preserved as output when you create a version using \"Save & Run All\" \n",
    "# You can also write temporary files to /kaggle/temp/, but they won't be saved outside of the current session"
   ]
  },
  {
   "cell_type": "code",
   "execution_count": 2,
   "metadata": {
    "execution": {
     "iopub.execute_input": "2022-03-20T22:53:48.289261Z",
     "iopub.status.busy": "2022-03-20T22:53:48.289007Z",
     "iopub.status.idle": "2022-03-20T22:54:33.021611Z",
     "shell.execute_reply": "2022-03-20T22:54:33.020459Z",
     "shell.execute_reply.started": "2022-03-20T22:53:48.289217Z"
    }
   },
   "outputs": [],
   "source": [
    "data = (pd.read_parquet('../input/ubiquant-parquet/train_low_mem.parquet')\n",
    "         .sort_values(['time_id', 'investment_id'])\n",
    "         .drop(columns=['row_id'])\n",
    "         .reset_index(drop=True))[:100000];"
   ]
  },
  {
   "cell_type": "code",
   "execution_count": 3,
   "metadata": {
    "execution": {
     "iopub.execute_input": "2022-03-20T22:54:33.023901Z",
     "iopub.status.busy": "2022-03-20T22:54:33.023636Z",
     "iopub.status.idle": "2022-03-20T22:54:33.031737Z",
     "shell.execute_reply": "2022-03-20T22:54:33.031071Z",
     "shell.execute_reply.started": "2022-03-20T22:54:33.023852Z"
    }
   },
   "outputs": [],
   "source": [
    "data.shape"
   ]
  },
  {
   "cell_type": "code",
   "execution_count": 4,
   "metadata": {
    "execution": {
     "iopub.execute_input": "2022-03-20T22:54:33.033555Z",
     "iopub.status.busy": "2022-03-20T22:54:33.033103Z",
     "iopub.status.idle": "2022-03-20T22:54:33.107232Z",
     "shell.execute_reply": "2022-03-20T22:54:33.106416Z",
     "shell.execute_reply.started": "2022-03-20T22:54:33.033520Z"
    }
   },
   "outputs": [],
   "source": [
    "data_input = data.drop(columns = ['target'])\n",
    "data_target = data['target']\n",
    "data_input.head(10)"
   ]
  },
  {
   "cell_type": "code",
   "execution_count": 5,
   "metadata": {
    "execution": {
     "iopub.execute_input": "2022-03-20T22:54:33.109468Z",
     "iopub.status.busy": "2022-03-20T22:54:33.109214Z",
     "iopub.status.idle": "2022-03-20T22:54:34.204890Z",
     "shell.execute_reply": "2022-03-20T22:54:34.204163Z",
     "shell.execute_reply.started": "2022-03-20T22:54:33.109435Z"
    }
   },
   "outputs": [],
   "source": [
    "from sklearn.base import clone\n",
    "from sklearn.model_selection import train_test_split\n",
    "from sklearn.model_selection import GridSearchCV\n",
    "\n",
    "# models\n",
    "from sklearn.tree import DecisionTreeRegressor\n",
    "\n",
    "# metrics\n",
    "from sklearn.metrics import make_scorer\n",
    "from sklearn.metrics import mean_squared_error\n",
    "import warnings\n",
    "warnings.filterwarnings('ignore')"
   ]
  },
  {
   "cell_type": "code",
   "execution_count": 6,
   "metadata": {
    "execution": {
     "iopub.execute_input": "2022-03-20T22:54:34.206586Z",
     "iopub.status.busy": "2022-03-20T22:54:34.206342Z",
     "iopub.status.idle": "2022-03-20T22:54:34.211381Z",
     "shell.execute_reply": "2022-03-20T22:54:34.210675Z",
     "shell.execute_reply.started": "2022-03-20T22:54:34.206551Z"
    }
   },
   "outputs": [],
   "source": [
    "tree_params = [\n",
    "    {\n",
    "        'max_depth': [2,3,5,7,10],\n",
    "        'min_samples_split':[2,3,5,7,10],\n",
    "        'min_samples_leaf':[2,3,5,7,10]\n",
    "    }\n",
    "]\n",
    "\n",
    "# tree model\n",
    "models_only_tree = {\n",
    "    'DT': (DecisionTreeRegressor(), tree_params)\n",
    "}"
   ]
  },
  {
   "cell_type": "code",
   "execution_count": 7,
   "metadata": {
    "execution": {
     "iopub.execute_input": "2022-03-20T22:54:34.213218Z",
     "iopub.status.busy": "2022-03-20T22:54:34.212541Z",
     "iopub.status.idle": "2022-03-20T22:54:34.221314Z",
     "shell.execute_reply": "2022-03-20T22:54:34.220574Z",
     "shell.execute_reply.started": "2022-03-20T22:54:34.213183Z"
    }
   },
   "outputs": [],
   "source": [
    "models = np.sort(list(models_only_tree.keys())).tolist()\n",
    "\n",
    "scoring = {\n",
    "        'MSE': make_scorer(mean_squared_error)\n",
    "    }\n",
    "\n",
    "results_columns = ['DATASET', 'MODEL', 'TRIAL'] + [\n",
    "    \"TRAIN_\" + x for x in list(scoring.keys())] + [\"TEST_\" + x for x in list(scoring.keys())]\n"
   ]
  },
  {
   "cell_type": "code",
   "execution_count": 8,
   "metadata": {
    "execution": {
     "iopub.execute_input": "2022-03-20T22:56:55.339589Z",
     "iopub.status.busy": "2022-03-20T22:56:55.339214Z",
     "iopub.status.idle": "2022-03-20T22:56:55.353957Z",
     "shell.execute_reply": "2022-03-20T22:56:55.353135Z",
     "shell.execute_reply.started": "2022-03-20T22:56:55.339555Z"
    }
   },
   "outputs": [],
   "source": [
    "def perform_trials(dataset_name, models, data_X, data_y):\n",
    "    \n",
    "    num_trials = 1\n",
    "    \n",
    "    data_results = pd.DataFrame(columns=results_columns)\n",
    "\n",
    "    for model_name in models.keys():\n",
    "        model = models[model_name][0]        \n",
    "        model_params_grid = models[model_name][1]\n",
    "        model_results = pd.DataFrame(columns=results_columns)\n",
    "        \n",
    "        # perform 1 trials using each model on the dataset\n",
    "        for trial_count in range(num_trials):\n",
    "            # pick 5000 samples with replacement to be in the training set\n",
    "            X_train, X_test, y_train, y_test = train_test_split(data_X, data_y, \n",
    "                                                                test_size=0.3, \n",
    "                                                                random_state=trial_count)\n",
    "            \n",
    "            # grid search with 5 k-folds\n",
    "            search = GridSearchCV(model, model_params_grid, cv=5, verbose=3,\n",
    "                                  n_jobs=-1, refit=False, scoring=scoring)\n",
    "            \n",
    "            # fit grid search model with training set\n",
    "            search.fit(X_train, y_train)\n",
    "            \n",
    "            # store 7 metrics calculated in one trial\n",
    "            model_result = {\n",
    "                'DATASET': dataset_name,\n",
    "                'MODEL': model_name,\n",
    "                'TRIAL': trial_count + 1\n",
    "            }\n",
    "            \n",
    "            for score_name in scoring.keys():\n",
    "                # find the best parameters that make model achieves best score of the metric\n",
    "                best_params = search.cv_results_['params'][np.argmin(\n",
    "                    search.cv_results_['rank_test_' + score_name])]\n",
    "                # use best parameters to create the optimal model for the metric\n",
    "                best_model = clone(model).set_params(**best_params)\n",
    "                # train the optimal model\n",
    "                best_model.fit(X_train, y_train)\n",
    "                \n",
    "                # compute metrics\n",
    "                train_score = scoring[score_name](best_model, X_train, y_train)\n",
    "                test_score = scoring[score_name](best_model, X_test, y_test)\n",
    "\n",
    "                # append scores\n",
    "                model_result['TRAIN_' + score_name] = train_score\n",
    "                model_result['TEST_' + score_name] = test_score\n",
    "            \n",
    "            # append scores of one trial to the model_results dataframe\n",
    "            model_results = model_results.append(model_result, ignore_index=True)\n",
    "        \n",
    "        # append model_results to data_results\n",
    "        data_results = data_results.append(model_results, ignore_index=True)\n",
    "        print(data_results)\n",
    "\n",
    "    \n",
    "    return data_results\n"
   ]
  },
  {
   "cell_type": "code",
   "execution_count": 9,
   "metadata": {
    "execution": {
     "iopub.execute_input": "2022-03-20T22:57:05.733155Z",
     "iopub.status.busy": "2022-03-20T22:57:05.732805Z",
     "iopub.status.idle": "2022-03-20T23:59:59.498172Z",
     "shell.execute_reply": "2022-03-20T23:59:59.496384Z",
     "shell.execute_reply.started": "2022-03-20T22:57:05.733116Z"
    }
   },
   "outputs": [],
   "source": [
    "results_tree = perform_trials('market_price', models_only_tree, data_input, data_target)\n"
   ]
  },
  {
   "cell_type": "code",
   "execution_count": 10,
   "metadata": {
    "execution": {
     "iopub.execute_input": "2022-03-21T00:01:46.719597Z",
     "iopub.status.busy": "2022-03-21T00:01:46.719329Z",
     "iopub.status.idle": "2022-03-21T00:01:46.731096Z",
     "shell.execute_reply": "2022-03-21T00:01:46.730406Z",
     "shell.execute_reply.started": "2022-03-21T00:01:46.719567Z"
    }
   },
   "outputs": [],
   "source": [
    "results_tree"
   ]
  },
  {
   "cell_type": "code",
   "execution_count": null,
   "metadata": {},
   "outputs": [],
   "source": [
    "100000"
   ]
  }
 ],
 "metadata": {
  "kernelspec": {
   "display_name": "Python 3",
   "language": "python",
   "name": "python3"
  },
  "language_info": {
   "codemirror_mode": {
    "name": "ipython",
    "version": 3
   },
   "file_extension": ".py",
   "mimetype": "text/x-python",
   "name": "python",
   "nbconvert_exporter": "python",
   "pygments_lexer": "ipython3",
   "version": "3.7.3"
  }
 },
 "nbformat": 4,
 "nbformat_minor": 4
}
